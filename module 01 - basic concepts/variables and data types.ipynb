{
 "cells": [
  {
   "cell_type": "code",
   "execution_count": 2,
   "id": "545e7809",
   "metadata": {},
   "outputs": [
    {
     "name": "stdout",
     "output_type": "stream",
     "text": [
      "Hello! I'm from Mexico City and I like programming in Python!\n"
     ]
    }
   ],
   "source": [
    "# Best practice: usar comillas simples en lugar de dobles\n",
    "print('Hello! I\\'m from Mexico City', 'and I like programming in Python!')"
   ]
  },
  {
   "cell_type": "code",
   "execution_count": null,
   "id": "42ec5f24",
   "metadata": {},
   "outputs": [],
   "source": []
  }
 ],
 "metadata": {
  "kernelspec": {
   "display_name": "Python 3 (ipykernel)",
   "language": "python",
   "name": "python3"
  },
  "language_info": {
   "codemirror_mode": {
    "name": "ipython",
    "version": 3
   },
   "file_extension": ".py",
   "mimetype": "text/x-python",
   "name": "python",
   "nbconvert_exporter": "python",
   "pygments_lexer": "ipython3",
   "version": "3.9.6"
  }
 },
 "nbformat": 4,
 "nbformat_minor": 5
}
